{
 "cells": [
  {
   "cell_type": "markdown",
   "metadata": {},
   "source": [
    "# KMeans Clustering\n",
    "In this notebook we'll see how to implement KMeans clustering using Scikit-learn library\n",
    "\n",
    "### Scikit learn \n",
    "It's a very useful library in python using with we can implement many Machine Learning algorithms\n",
    "\n",
    "\n",
    "In this example we are going to use dataset which contains 2 attributes x and y"
   ]
  },
  {
   "cell_type": "markdown",
   "metadata": {},
   "source": [
    "#### Importing libraries"
   ]
  },
  {
   "cell_type": "code",
   "execution_count": 82,
   "metadata": {},
   "outputs": [],
   "source": [
    "from sklearn.cluster import KMeans\n",
    "import csv\n",
    "import numpy as np"
   ]
  },
  {
   "cell_type": "code",
   "execution_count": 83,
   "metadata": {},
   "outputs": [],
   "source": [
    "train_data = []\n",
    "test_data = []   "
   ]
  },
  {
   "cell_type": "markdown",
   "metadata": {},
   "source": [
    "#### Importing training dataset "
   ]
  },
  {
   "cell_type": "code",
   "execution_count": 96,
   "metadata": {},
   "outputs": [],
   "source": [
    "with open(\"./kmeans/train.csv\",'r') as csvfile:\n",
    "    reader = csv.reader(csvfile)\n",
    "    reader.next()\n",
    "    for row in reader:\n",
    "        train_data.append(row[0:2])"
   ]
  },
  {
   "cell_type": "markdown",
   "metadata": {},
   "source": [
    "Fitting the training datadet in the Kmeans model"
   ]
  },
  {
   "cell_type": "code",
   "execution_count": 97,
   "metadata": {},
   "outputs": [
    {
     "data": {
      "text/plain": [
       "KMeans(algorithm='auto', copy_x=True, init='k-means++', max_iter=300,\n",
       "    n_clusters=2, n_init=10, n_jobs=1, precompute_distances='auto',\n",
       "    random_state=None, tol=0.0001, verbose=0)"
      ]
     },
     "execution_count": 97,
     "metadata": {},
     "output_type": "execute_result"
    }
   ],
   "source": [
    "kmeans = KMeans(n_clusters = 2)\n",
    "kmeans.fit(train_data)"
   ]
  },
  {
   "cell_type": "markdown",
   "metadata": {},
   "source": [
    "#### Importing test dataset"
   ]
  },
  {
   "cell_type": "code",
   "execution_count": 98,
   "metadata": {},
   "outputs": [],
   "source": [
    "with open(\"./kmeans/test.csv\",'r') as csvfile:\n",
    "    reader = csv.reader(csvfile)\n",
    "    reader.next()\n",
    "    for row in reader:\n",
    "        test_data.append(row[0:2])\n",
    "        "
   ]
  },
  {
   "cell_type": "code",
   "execution_count": 99,
   "metadata": {},
   "outputs": [],
   "source": [
    "solution = kmeans.predict(test_data)"
   ]
  },
  {
   "cell_type": "code",
   "execution_count": 133,
   "metadata": {},
   "outputs": [
    {
     "name": "stdout",
     "output_type": "stream",
     "text": [
      "['19' '19' '17' '20' '20' '16' '18' '19' '17' '19' '20' '17' '19' '19'\n",
      " '20' '18' '16' '19' '17' '20' '19' '18' '17' '20' '19' '19' '20' '16'\n",
      " '19' '17' '17' '16' '17' '19' '19' '17' '18' '20' '20' '20' '17' '16'\n",
      " '16' '18' '16' '20' '17' '18' '17' '20' '11' '11' '13' '7' '6' '10' '10'\n",
      " '6' '15' '7' '14' '9' '6' '11' '9' '13' '14' '11' '12' '6' '10' '11' '13'\n",
      " '10' '6' '13' '13' '13' '6' '14' '12' '11' '11' '13' '15' '13' '10' '7'\n",
      " '10' '14' '19' '19' '17' '20' '20' '16' '18' '19' '17' '19' '20' '17'\n",
      " '19' '19' '20' '18' '16' '19' '17' '20' '19' '18' '17' '20' '19' '19'\n",
      " '20' '16' '19' '17' '17' '16' '17' '19' '19' '17' '18' '20' '20' '20'\n",
      " '17' '16' '16' '18' '16' '20' '17' '18' '17' '20' '11' '11' '13' '7' '6'\n",
      " '10' '10' '6' '15' '7' '14' '9' '6' '11' '9' '13' '14' '11' '12' '6' '10'\n",
      " '11' '13' '10' '6' '13' '13' '13' '6' '14' '12' '11' '11' '13' '15' '13'\n",
      " '10' '7' '10' '14']\n"
     ]
    }
   ],
   "source": [
    "import matplotlib.pyplot as plt\n",
    "print np.asarray(train_data)[:,1]\n"
   ]
  },
  {
   "cell_type": "code",
   "execution_count": 149,
   "metadata": {},
   "outputs": [
    {
     "data": {
      "image/png": "[encoded data removed]",
      "text/plain": [
       "<Figure size 432x288 with 1 Axes>"
      ]
     },
     "metadata": {},
     "output_type": "display_data"
    }
   ],
   "source": [
    "# np.reshape(test_data,((19,2)))\n",
    "plt.plot(np.asarray(train_data)[:,0],np.asarray(train_data)[:,1],'ro')\n",
    "plt.axis([1,20,1,15])\n",
    "plt.show()"
   ]
  },
  {
   "cell_type": "code",
   "execution_count": null,
   "metadata": {},
   "outputs": [],
   "source": []
  }
 ],
 "metadata": {
  "kernelspec": {
   "display_name": "Python 2",
   "language": "python",
   "name": "python2"
  },
  "language_info": {
   "codemirror_mode": {
    "name": "ipython",
    "version": 2
   },
   "file_extension": ".py",
   "mimetype": "text/x-python",
   "name": "python",
   "nbconvert_exporter": "python",
   "pygments_lexer": "ipython2",
   "version": "2.7.14"
  }
 },
 "nbformat": 4,
 "nbformat_minor": 2
}
